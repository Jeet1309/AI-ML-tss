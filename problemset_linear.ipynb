{
  "nbformat": 4,
  "nbformat_minor": 0,
  "metadata": {
    "colab": {
      "provenance": [],
      "authorship_tag": "ABX9TyPzD5ggeQqchrUeA+lekJDH",
      "include_colab_link": true
    },
    "kernelspec": {
      "name": "python3",
      "display_name": "Python 3"
    },
    "language_info": {
      "name": "python"
    }
  },
  "cells": [
    {
      "cell_type": "markdown",
      "metadata": {
        "id": "view-in-github",
        "colab_type": "text"
      },
      "source": [
        "<a href=\"https://colab.research.google.com/github/Jeet1309/AI-ML-tss/blob/main/problemset_linear.ipynb\" target=\"_parent\"><img src=\"https://colab.research.google.com/assets/colab-badge.svg\" alt=\"Open In Colab\"/></a>"
      ]
    },
    {
      "cell_type": "code",
      "source": [
        "import numpy as np\n",
        "import matplotlib.pyplot as plt"
      ],
      "metadata": {
        "id": "tBdflKQ0mrQE"
      },
      "execution_count": 137,
      "outputs": []
    },
    {
      "cell_type": "code",
      "execution_count": 138,
      "metadata": {
        "id": "FMr3acXsmk_4"
      },
      "outputs": [],
      "source": [
        "dataset1 = np.array([[1,1] ,[2,2] ,[3,1]] )\n",
        "dataset2 = np.array([[1,1] ,[1,2], [2,2], [2,1]])\n",
        "dataset3 = np.array([[1,1], [2,1.5], [2,0.5] ,[3,1]])"
      ]
    },
    {
      "cell_type": "code",
      "source": [
        "x = dataset3[:,0]\n",
        "y = dataset3[:,1]"
      ],
      "metadata": {
        "id": "D4Y8gRyroxG7"
      },
      "execution_count": 139,
      "outputs": []
    },
    {
      "cell_type": "code",
      "source": [
        "print(x,y)"
      ],
      "metadata": {
        "colab": {
          "base_uri": "https://localhost:8080/"
        },
        "id": "q-J79N5yqqcu",
        "outputId": "02374c45-d943-4689-e392-1b96d18d495f"
      },
      "execution_count": 140,
      "outputs": [
        {
          "output_type": "stream",
          "name": "stdout",
          "text": [
            "[1. 2. 2. 3.] [1.  1.5 0.5 1. ]\n"
          ]
        }
      ]
    },
    {
      "cell_type": "code",
      "source": [
        "def hypo(x,weights):\n",
        "    yp =  weights[0]+(weights[1]*x)\n",
        "    return yp"
      ],
      "metadata": {
        "id": "DBrGf2DdnOhv"
      },
      "execution_count": 141,
      "outputs": []
    },
    {
      "cell_type": "code",
      "source": [
        "def lossfun(x,weights,Yt):\n",
        "    j = 0\n",
        "    for i in range(x.shape[0]):\n",
        "        j = j+(hypo(x[i],weights)-Yt[i])**2\n",
        "    return j/x.shape[0]"
      ],
      "metadata": {
        "id": "r5PbKi06odND"
      },
      "execution_count": 142,
      "outputs": []
    },
    {
      "cell_type": "code",
      "source": [
        "def gradient(x,weights,Yt):\n",
        "    dj = np.zeros((2,))\n",
        "    for i in range(x.shape[0]):\n",
        "        dj[0] +=(hypo(x[i],weights)-Yt[i])\n",
        "        dj[1] +=(hypo(x[i],weights)-Yt[i])*x[i]\n",
        "    return dj/x.shape[0]"
      ],
      "metadata": {
        "id": "xrYb1QgrpQd0"
      },
      "execution_count": 143,
      "outputs": []
    },
    {
      "cell_type": "code",
      "source": [
        "def gradient_decent(x,Yt):\n",
        "    weights = np.zeros((2,))\n",
        "    alpha = 0.03\n",
        "\n",
        "    loss_epo = []\n",
        "    for i in range(5000):\n",
        "        grad = gradient(x,weights,Yt)\n",
        "        weights[0] = weights[0] - alpha*grad[0]\n",
        "        weights[1] = weights[1] - alpha*grad[1]\n",
        "        loss_epo.append(lossfun(x,weights,Yt))\n",
        "    return weights,loss_epo"
      ],
      "metadata": {
        "id": "Pl9SNzFbpTgJ"
      },
      "execution_count": 144,
      "outputs": []
    },
    {
      "cell_type": "code",
      "source": [
        "weights, loss_epoch = gradient_decent(x, y)"
      ],
      "metadata": {
        "id": "H0p0dYyepUUf"
      },
      "execution_count": 145,
      "outputs": []
    },
    {
      "cell_type": "code",
      "source": [
        "weights"
      ],
      "metadata": {
        "colab": {
          "base_uri": "https://localhost:8080/"
        },
        "id": "YJ3hZl3gsKIg",
        "outputId": "dfc4e410-403f-4343-ac05-a4783b0435c8"
      },
      "execution_count": 146,
      "outputs": [
        {
          "output_type": "execute_result",
          "data": {
            "text/plain": [
              "array([9.99999229e-01, 3.49695308e-07])"
            ]
          },
          "metadata": {},
          "execution_count": 146
        }
      ]
    },
    {
      "cell_type": "code",
      "source": [
        "y_r = []\n",
        "for i in range(len(x)):\n",
        "  y_r.append(hypo(x[i],weights))"
      ],
      "metadata": {
        "id": "Q2C-oadMsL0U"
      },
      "execution_count": 147,
      "outputs": []
    },
    {
      "cell_type": "code",
      "source": [
        "plt.plot(y_r)\n",
        "plt.scatter(x,y)\n",
        "plt.show()"
      ],
      "metadata": {
        "colab": {
          "base_uri": "https://localhost:8080/",
          "height": 430
        },
        "id": "4LTT3g7NstJW",
        "outputId": "0a5e41a4-50df-4d0e-ee24-ac77df49b30b"
      },
      "execution_count": 148,
      "outputs": [
        {
          "output_type": "display_data",
          "data": {
            "text/plain": [
              "<Figure size 640x480 with 1 Axes>"
            ],
            "image/png": "[encoded data removed]"
          },
          "metadata": {}
        }
      ]
    },
    {
      "cell_type": "code",
      "source": [],
      "metadata": {
        "id": "tBgO2cADsyq9"
      },
      "execution_count": 148,
      "outputs": []
    }
  ]
}