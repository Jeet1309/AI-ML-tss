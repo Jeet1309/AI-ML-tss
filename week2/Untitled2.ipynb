{
  "nbformat": 4,
  "nbformat_minor": 0,
  "metadata": {
    "colab": {
      "provenance": [],
      "gpuType": "T4",
      "authorship_tag": "ABX9TyMl9MOgzR846+Y1udNtX5EA",
      "include_colab_link": true
    },
    "kernelspec": {
      "name": "python3",
      "display_name": "Python 3"
    },
    "language_info": {
      "name": "python"
    },
    "accelerator": "GPU"
  },
  "cells": [
    {
      "cell_type": "markdown",
      "metadata": {
        "id": "view-in-github",
        "colab_type": "text"
      },
      "source": [
        "<a href=\"https://colab.research.google.com/github/Jeet1309/AI-ML-tss/blob/main/week2/Untitled2.ipynb\" target=\"_parent\"><img src=\"https://colab.research.google.com/assets/colab-badge.svg\" alt=\"Open In Colab\"/></a>"
      ]
    },
    {
      "cell_type": "code",
      "execution_count": null,
      "metadata": {
        "id": "yvONW4TcbOOk"
      },
      "outputs": [],
      "source": [
        "import tensorflow as tf\n",
        "from tensorflow import keras\n",
        "from tensorflow.keras import layers,regularizers\n",
        "import numpy as np\n",
        "import matplotlib.pyplot as plt\n",
        "from tensorflow.keras.datasets import mnist\n"
      ]
    },
    {
      "cell_type": "code",
      "source": [
        "(x_train,y_train),(x_test,y_test)=mnist.load_data()\n",
        "x_train.shape"
      ],
      "metadata": {
        "id": "eERLs9XjbZ1X",
        "colab": {
          "base_uri": "https://localhost:8080/"
        },
        "outputId": "f41e9a11-2c8d-400d-fe14-7805384de03f"
      },
      "execution_count": null,
      "outputs": [
        {
          "output_type": "stream",
          "name": "stdout",
          "text": [
            "Downloading data from https://storage.googleapis.com/tensorflow/tf-keras-datasets/mnist.npz\n",
            "11490434/11490434 [==============================] - 2s 0us/step\n"
          ]
        },
        {
          "output_type": "execute_result",
          "data": {
            "text/plain": [
              "(60000, 28, 28)"
            ]
          },
          "metadata": {},
          "execution_count": 3
        }
      ]
    },
    {
      "cell_type": "code",
      "source": [
        "x_train = x_train.reshape(-1,28*28).astype('float32')/255\n",
        "x_test = x_test.reshape(-1,28*28).astype('float32')/255"
      ],
      "metadata": {
        "id": "gmcpIy6wzbix"
      },
      "execution_count": null,
      "outputs": []
    },
    {
      "cell_type": "code",
      "source": [
        "model = keras.Sequential([\n",
        "    keras.Input(shape=(28*28)),\n",
        "    layers.Dense(512,activation='relu'),\n",
        "    layers.Dense(256,activation='relu'),\n",
        "    layers.Dense(10),\n",
        "])"
      ],
      "metadata": {
        "id": "0iPNXm45z2NA"
      },
      "execution_count": null,
      "outputs": []
    },
    {
      "cell_type": "code",
      "source": [
        "print(model.summary())"
      ],
      "metadata": {
        "colab": {
          "base_uri": "https://localhost:8080/"
        },
        "id": "4npSxJlW2BSO",
        "outputId": "fbd8fd2f-beb1-4d13-d721-dd9b7e1a7799"
      },
      "execution_count": null,
      "outputs": [
        {
          "output_type": "stream",
          "name": "stdout",
          "text": [
            "Model: \"sequential\"\n",
            "_________________________________________________________________\n",
            " Layer (type)                Output Shape              Param #   \n",
            "=================================================================\n",
            " dense (Dense)               (None, 512)               401920    \n",
            "                                                                 \n",
            " dense_1 (Dense)             (None, 256)               131328    \n",
            "                                                                 \n",
            " dense_2 (Dense)             (None, 10)                2570      \n",
            "                                                                 \n",
            "=================================================================\n",
            "Total params: 535818 (2.04 MB)\n",
            "Trainable params: 535818 (2.04 MB)\n",
            "Non-trainable params: 0 (0.00 Byte)\n",
            "_________________________________________________________________\n",
            "None\n"
          ]
        }
      ]
    },
    {
      "cell_type": "code",
      "source": [
        "inputs = keras.Input(shape=(28*28))\n",
        "x = layers.Dense(512,activation='relu')(inputs)\n",
        "x = layers.Dense(256,activation='relu')(x)\n",
        "# x = layers.Dropout(0.5)(x)\n",
        "outputs = layers.Dense(10,activation='softmax')(x)\n",
        "model = keras.Model(inputs = inputs,outputs =outputs)\n",
        "model.compile(optimizer=keras.optimizers.RMSprop(learning_rate =0.005),loss=keras.losses.SparseCategoricalCrossentropy(from_logits=True),metrics=['accuracy'])"
      ],
      "metadata": {
        "id": "cm53z8mr0dQg"
      },
      "execution_count": null,
      "outputs": []
    },
    {
      "cell_type": "code",
      "source": [
        "model.fit(x_train,y_train,epochs=25,batch_size=32,verbose = 2)\n",
        "model.evaluate(x_test,y_test,batch_size=32,verbose=2)"
      ],
      "metadata": {
        "colab": {
          "base_uri": "https://localhost:8080/"
        },
        "id": "g82SP0t30_qi",
        "outputId": "1d02399d-5b6b-4057-e396-aa8c0f12b4fc"
      },
      "execution_count": null,
      "outputs": [
        {
          "output_type": "stream",
          "name": "stdout",
          "text": [
            "Epoch 1/25\n",
            "1875/1875 - 5s - loss: 0.2696 - accuracy: 0.9290 - 5s/epoch - 3ms/step\n",
            "Epoch 2/25\n",
            "1875/1875 - 4s - loss: 0.1810 - accuracy: 0.9603 - 4s/epoch - 2ms/step\n",
            "Epoch 3/25\n",
            "1875/1875 - 4s - loss: 0.1709 - accuracy: 0.9676 - 4s/epoch - 2ms/step\n",
            "Epoch 4/25\n",
            "1875/1875 - 4s - loss: 0.1629 - accuracy: 0.9700 - 4s/epoch - 2ms/step\n",
            "Epoch 5/25\n",
            "1875/1875 - 4s - loss: 0.1512 - accuracy: 0.9734 - 4s/epoch - 2ms/step\n",
            "Epoch 6/25\n",
            "1875/1875 - 4s - loss: 0.1512 - accuracy: 0.9758 - 4s/epoch - 2ms/step\n",
            "Epoch 7/25\n",
            "1875/1875 - 4s - loss: 0.1468 - accuracy: 0.9765 - 4s/epoch - 2ms/step\n",
            "Epoch 8/25\n",
            "1875/1875 - 4s - loss: 0.1424 - accuracy: 0.9789 - 4s/epoch - 2ms/step\n",
            "Epoch 9/25\n",
            "1875/1875 - 4s - loss: 0.1369 - accuracy: 0.9803 - 4s/epoch - 2ms/step\n",
            "Epoch 10/25\n",
            "1875/1875 - 4s - loss: 0.1289 - accuracy: 0.9821 - 4s/epoch - 2ms/step\n",
            "Epoch 11/25\n",
            "1875/1875 - 4s - loss: 0.1226 - accuracy: 0.9837 - 4s/epoch - 2ms/step\n",
            "Epoch 12/25\n",
            "1875/1875 - 4s - loss: 0.1210 - accuracy: 0.9847 - 4s/epoch - 2ms/step\n",
            "Epoch 13/25\n",
            "1875/1875 - 5s - loss: 0.1140 - accuracy: 0.9855 - 5s/epoch - 2ms/step\n",
            "Epoch 14/25\n",
            "1875/1875 - 4s - loss: 0.1078 - accuracy: 0.9872 - 4s/epoch - 2ms/step\n",
            "Epoch 15/25\n",
            "1875/1875 - 4s - loss: 0.1012 - accuracy: 0.9880 - 4s/epoch - 2ms/step\n",
            "Epoch 16/25\n",
            "1875/1875 - 5s - loss: 0.0989 - accuracy: 0.9885 - 5s/epoch - 2ms/step\n",
            "Epoch 17/25\n",
            "1875/1875 - 4s - loss: 0.0898 - accuracy: 0.9890 - 4s/epoch - 2ms/step\n",
            "Epoch 18/25\n",
            "1875/1875 - 4s - loss: 0.0883 - accuracy: 0.9899 - 4s/epoch - 2ms/step\n",
            "Epoch 19/25\n",
            "1875/1875 - 4s - loss: 0.0810 - accuracy: 0.9906 - 4s/epoch - 2ms/step\n",
            "Epoch 20/25\n",
            "1875/1875 - 4s - loss: 0.0840 - accuracy: 0.9910 - 4s/epoch - 2ms/step\n",
            "Epoch 21/25\n",
            "1875/1875 - 4s - loss: 0.0665 - accuracy: 0.9920 - 4s/epoch - 2ms/step\n",
            "Epoch 22/25\n",
            "1875/1875 - 5s - loss: 0.0686 - accuracy: 0.9926 - 5s/epoch - 2ms/step\n",
            "Epoch 23/25\n",
            "1875/1875 - 4s - loss: 0.0701 - accuracy: 0.9926 - 4s/epoch - 2ms/step\n",
            "Epoch 24/25\n",
            "1875/1875 - 4s - loss: 0.0611 - accuracy: 0.9934 - 4s/epoch - 2ms/step\n",
            "Epoch 25/25\n",
            "1875/1875 - 5s - loss: 0.0579 - accuracy: 0.9934 - 5s/epoch - 2ms/step\n",
            "313/313 - 1s - loss: 0.6021 - accuracy: 0.9755 - 640ms/epoch - 2ms/step\n"
          ]
        },
        {
          "output_type": "execute_result",
          "data": {
            "text/plain": [
              "[0.6020523905754089, 0.9754999876022339]"
            ]
          },
          "metadata": {},
          "execution_count": 13
        }
      ]
    },
    {
      "cell_type": "code",
      "source": [
        "model.save_weights('saved_weights/')"
      ],
      "metadata": {
        "id": "BLV7UJDbd5ZV"
      },
      "execution_count": null,
      "outputs": []
    },
    {
      "cell_type": "code",
      "source": [
        "model = keras.Model(inputs = inputs,outputs =outputs)\n",
        "model.load_weights('saved_weights/')\n",
        "model.compile(optimizer=keras.optimizers.RMSprop(learning_rate =0.005,momentum=0.0005,),loss=keras.losses.SparseCategoricalCrossentropy(from_logits=True),metrics=['accuracy'])"
      ],
      "metadata": {
        "id": "_tqb61dRfilZ"
      },
      "execution_count": null,
      "outputs": []
    },
    {
      "cell_type": "code",
      "source": [
        "model.fit(x_train,y_train,epochs=25,batch_size=32,verbose = 2)\n",
        "model.evaluate(x_test,y_test,batch_size=32,verbose=2)"
      ],
      "metadata": {
        "colab": {
          "base_uri": "https://localhost:8080/"
        },
        "id": "IN2A1CW5e8SH",
        "outputId": "63469ee6-43d5-4105-8b8c-f95ad365582d"
      },
      "execution_count": null,
      "outputs": [
        {
          "output_type": "stream",
          "name": "stdout",
          "text": [
            "Epoch 1/25\n",
            "1875/1875 - 5s - loss: 0.0571 - accuracy: 0.9945 - 5s/epoch - 3ms/step\n",
            "Epoch 2/25\n",
            "1875/1875 - 4s - loss: 0.0485 - accuracy: 0.9947 - 4s/epoch - 2ms/step\n",
            "Epoch 3/25\n",
            "1875/1875 - 4s - loss: 0.0593 - accuracy: 0.9941 - 4s/epoch - 2ms/step\n",
            "Epoch 4/25\n",
            "1875/1875 - 5s - loss: 0.0492 - accuracy: 0.9944 - 5s/epoch - 2ms/step\n",
            "Epoch 5/25\n",
            "1875/1875 - 4s - loss: 0.0448 - accuracy: 0.9952 - 4s/epoch - 2ms/step\n",
            "Epoch 6/25\n",
            "1875/1875 - 4s - loss: 0.0476 - accuracy: 0.9951 - 4s/epoch - 2ms/step\n",
            "Epoch 7/25\n",
            "1875/1875 - 4s - loss: 0.0479 - accuracy: 0.9955 - 4s/epoch - 2ms/step\n",
            "Epoch 8/25\n",
            "1875/1875 - 4s - loss: 0.0332 - accuracy: 0.9962 - 4s/epoch - 2ms/step\n",
            "Epoch 9/25\n",
            "1875/1875 - 4s - loss: 0.0294 - accuracy: 0.9967 - 4s/epoch - 2ms/step\n",
            "Epoch 10/25\n",
            "1875/1875 - 4s - loss: 0.0457 - accuracy: 0.9959 - 4s/epoch - 2ms/step\n",
            "Epoch 11/25\n",
            "1875/1875 - 4s - loss: 0.0350 - accuracy: 0.9961 - 4s/epoch - 2ms/step\n",
            "Epoch 12/25\n",
            "1875/1875 - 4s - loss: 0.0443 - accuracy: 0.9963 - 4s/epoch - 2ms/step\n",
            "Epoch 13/25\n",
            "1875/1875 - 4s - loss: 0.0316 - accuracy: 0.9967 - 4s/epoch - 2ms/step\n",
            "Epoch 14/25\n",
            "1875/1875 - 4s - loss: 0.0279 - accuracy: 0.9972 - 4s/epoch - 2ms/step\n",
            "Epoch 15/25\n",
            "1875/1875 - 4s - loss: 0.0248 - accuracy: 0.9976 - 4s/epoch - 2ms/step\n",
            "Epoch 16/25\n",
            "1875/1875 - 4s - loss: 0.0274 - accuracy: 0.9972 - 4s/epoch - 2ms/step\n",
            "Epoch 17/25\n",
            "1875/1875 - 4s - loss: 0.0287 - accuracy: 0.9973 - 4s/epoch - 2ms/step\n",
            "Epoch 18/25\n",
            "1875/1875 - 4s - loss: 0.0318 - accuracy: 0.9970 - 4s/epoch - 2ms/step\n",
            "Epoch 19/25\n",
            "1875/1875 - 4s - loss: 0.0178 - accuracy: 0.9981 - 4s/epoch - 2ms/step\n",
            "Epoch 20/25\n",
            "1875/1875 - 4s - loss: 0.0172 - accuracy: 0.9984 - 4s/epoch - 2ms/step\n",
            "Epoch 21/25\n",
            "1875/1875 - 4s - loss: 0.0132 - accuracy: 0.9983 - 4s/epoch - 2ms/step\n",
            "Epoch 22/25\n",
            "1875/1875 - 4s - loss: 0.0141 - accuracy: 0.9985 - 4s/epoch - 2ms/step\n",
            "Epoch 23/25\n",
            "1875/1875 - 5s - loss: 0.0195 - accuracy: 0.9980 - 5s/epoch - 2ms/step\n",
            "Epoch 24/25\n",
            "1875/1875 - 4s - loss: 0.0167 - accuracy: 0.9984 - 4s/epoch - 2ms/step\n",
            "Epoch 25/25\n",
            "1875/1875 - 4s - loss: 0.0165 - accuracy: 0.9986 - 4s/epoch - 2ms/step\n",
            "313/313 - 1s - loss: 0.7807 - accuracy: 0.9795 - 626ms/epoch - 2ms/step\n"
          ]
        },
        {
          "output_type": "execute_result",
          "data": {
            "text/plain": [
              "[0.7806962132453918, 0.9794999957084656]"
            ]
          },
          "metadata": {},
          "execution_count": 19
        }
      ]
    },
    {
      "cell_type": "code",
      "source": [
        "model.save('saved_model/')"
      ],
      "metadata": {
        "id": "tCo_GHtqh1Nr"
      },
      "execution_count": null,
      "outputs": []
    },
    {
      "cell_type": "code",
      "source": [
        "model = keras.models.load_model('saved_model/')"
      ],
      "metadata": {
        "id": "5lumpxEgh8Ap"
      },
      "execution_count": null,
      "outputs": []
    },
    {
      "cell_type": "code",
      "source": [
        "model.fit(x_train,y_train,epochs=10,batch_size=32,verbose = 2)\n",
        "model.evaluate(x_test,y_test,batch_size=32,verbose=2)"
      ],
      "metadata": {
        "colab": {
          "base_uri": "https://localhost:8080/"
        },
        "id": "EHCj7ePCiDXw",
        "outputId": "39b00ca7-6819-498b-875d-386ac8ddeaed"
      },
      "execution_count": null,
      "outputs": [
        {
          "output_type": "stream",
          "name": "stdout",
          "text": [
            "Epoch 1/10\n"
          ]
        },
        {
          "output_type": "stream",
          "name": "stderr",
          "text": [
            "/usr/local/lib/python3.10/dist-packages/keras/src/backend.py:5727: UserWarning: \"`sparse_categorical_crossentropy` received `from_logits=True`, but the `output` argument was produced by a Softmax activation and thus does not represent logits. Was this intended?\n",
            "  output, from_logits = _get_logits(\n"
          ]
        },
        {
          "output_type": "stream",
          "name": "stdout",
          "text": [
            "1875/1875 - 5s - loss: 0.0204 - accuracy: 0.9981 - 5s/epoch - 3ms/step\n",
            "Epoch 2/10\n",
            "1875/1875 - 4s - loss: 0.0125 - accuracy: 0.9986 - 4s/epoch - 2ms/step\n",
            "Epoch 3/10\n",
            "1875/1875 - 4s - loss: 0.0180 - accuracy: 0.9981 - 4s/epoch - 2ms/step\n",
            "Epoch 4/10\n",
            "1875/1875 - 4s - loss: 0.0158 - accuracy: 0.9984 - 4s/epoch - 2ms/step\n",
            "Epoch 5/10\n",
            "1875/1875 - 4s - loss: 0.0099 - accuracy: 0.9990 - 4s/epoch - 2ms/step\n",
            "Epoch 6/10\n",
            "1875/1875 - 4s - loss: 0.0165 - accuracy: 0.9986 - 4s/epoch - 2ms/step\n",
            "Epoch 7/10\n",
            "1875/1875 - 4s - loss: 0.0128 - accuracy: 0.9989 - 4s/epoch - 2ms/step\n",
            "Epoch 8/10\n",
            "1875/1875 - 4s - loss: 0.0078 - accuracy: 0.9991 - 4s/epoch - 2ms/step\n",
            "Epoch 9/10\n",
            "1875/1875 - 4s - loss: 0.0074 - accuracy: 0.9991 - 4s/epoch - 2ms/step\n",
            "Epoch 10/10\n",
            "1875/1875 - 4s - loss: 0.0073 - accuracy: 0.9992 - 4s/epoch - 2ms/step\n",
            "313/313 - 1s - loss: 0.8000 - accuracy: 0.9801 - 632ms/epoch - 2ms/step\n"
          ]
        },
        {
          "output_type": "execute_result",
          "data": {
            "text/plain": [
              "[0.8000446557998657, 0.9800999760627747]"
            ]
          },
          "metadata": {},
          "execution_count": 23
        }
      ]
    },
    {
      "cell_type": "code",
      "source": [],
      "metadata": {
        "id": "6xfi1F3qiTVU"
      },
      "execution_count": null,
      "outputs": []
    }
  ]
}