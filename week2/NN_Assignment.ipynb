{
  "cells": [
    {
      "cell_type": "markdown",
      "metadata": {
        "id": "view-in-github",
        "colab_type": "text"
      },
      "source": [
        "<a href=\"https://colab.research.google.com/github/Jeet1309/AI-ML-tss/blob/main/NN_Assignment.ipynb\" target=\"_parent\"><img src=\"https://colab.research.google.com/assets/colab-badge.svg\" alt=\"Open In Colab\"/></a>"
      ]
    },
    {
      "cell_type": "code",
      "execution_count": 109,
      "metadata": {
        "id": "SzqjA6jbG-dW"
      },
      "outputs": [],
      "source": [
        "import tensorflow as tf\n",
        "from tensorflow import keras\n",
        "from tensorflow.keras import layers\n",
        "from tensorflow.keras.preprocessing.image import ImageDataGenerator\n",
        "import os\n",
        "import numpy as np"
      ]
    },
    {
      "cell_type": "code",
      "execution_count": 125,
      "metadata": {
        "id": "RSasTq5wRgPz"
      },
      "outputs": [],
      "source": [
        "img_height = 64\n",
        "img_width = 64\n",
        "batch_size = 5\n",
        "\n",
        "model = keras.Sequential(\n",
        "    [\n",
        "        layers.Input((64, 64, 3)),\n",
        "        layers.Flatten(),\n",
        "\n",
        "        layers.Dense(64,activation='relu'),\n",
        "        layers.Dense(32,activation='relu'),\n",
        "        layers.Dense(10),\n",
        "\n",
        "    ]\n",
        ")"
      ]
    },
    {
      "cell_type": "code",
      "source": [
        "dataset = tf.keras.preprocessing.image_dataset_from_directory(\n",
        "    \"/content/drive/MyDrive/Untitled form (File responses) (1)/images/\",\n",
        "    labels='inferred',\n",
        "    label_mode = \"int\",\n",
        "    color_mode='rgb',\n",
        "    batch_size = batch_size,\n",
        "    image_size  =(img_height,img_width),\n",
        "    shuffle = True,\n",
        "    seed=113,\n",
        ")"
      ],
      "metadata": {
        "colab": {
          "base_uri": "https://localhost:8080/"
        },
        "id": "JvCcVjrlumh9",
        "outputId": "287b93c8-c0e5-4f28-c9ea-0bea43f60583"
      },
      "execution_count": 137,
      "outputs": [
        {
          "output_type": "stream",
          "name": "stdout",
          "text": [
            "Found 269 files belonging to 2 classes.\n"
          ]
        }
      ]
    },
    {
      "cell_type": "code",
      "source": [
        "total_batches = tf.data.experimental.cardinality(dataset).numpy()\n",
        "train_batches = int(total_batches * 0.9)\n",
        "test_batches = total_batches - train_batches\n",
        "\n",
        "ds_train = dataset.take(train_batches)\n",
        "ds_test = dataset.skip(train_batches)"
      ],
      "metadata": {
        "id": "ifOT7KXuu0B2"
      },
      "execution_count": 138,
      "outputs": []
    },
    {
      "cell_type": "code",
      "source": [
        "def augment(x,y):\n",
        "    image = tf.image.random_brightness(x,max_delta=0.05)\n",
        "    return image,y"
      ],
      "metadata": {
        "id": "qz6gPVngu6AM"
      },
      "execution_count": 139,
      "outputs": []
    },
    {
      "cell_type": "code",
      "source": [
        "ds_train = ds_train.map(augment)\n",
        "\n",
        "#custom loops\n",
        "# for epoch in range(10):\n",
        "#     for x,y in ds_train:\n",
        "#         print(x,y)"
      ],
      "metadata": {
        "id": "wwep5i6fu8qx"
      },
      "execution_count": 141,
      "outputs": []
    },
    {
      "cell_type": "code",
      "source": [
        "model.compile(\n",
        "    optimizer=keras.optimizers.Adam(learning_rate=0.001,),\n",
        "    loss=keras.losses.SparseCategoricalCrossentropy(from_logits=True),\n",
        "    metrics=['accuracy']\n",
        ")\n",
        "\n",
        "model.fit(ds_train,epochs=25,verbose=2)\n",
        "loss,accuracy = model.evaluate(ds_test,verbose=2)"
      ],
      "metadata": {
        "colab": {
          "base_uri": "https://localhost:8080/"
        },
        "id": "CeA4qTFytEXr",
        "outputId": "79d0afcb-4817-4392-e530-bd3c5d8e9bd5"
      },
      "execution_count": 142,
      "outputs": [
        {
          "output_type": "stream",
          "name": "stdout",
          "text": [
            "Epoch 1/25\n",
            "48/48 - 3s - loss: 0.0000e+00 - accuracy: 1.0000 - 3s/epoch - 55ms/step\n",
            "Epoch 2/25\n",
            "48/48 - 1s - loss: 0.0000e+00 - accuracy: 1.0000 - 1s/epoch - 24ms/step\n",
            "Epoch 3/25\n",
            "48/48 - 1s - loss: 0.0000e+00 - accuracy: 1.0000 - 932ms/epoch - 19ms/step\n",
            "Epoch 4/25\n",
            "48/48 - 1s - loss: 0.0000e+00 - accuracy: 1.0000 - 931ms/epoch - 19ms/step\n",
            "Epoch 5/25\n",
            "48/48 - 1s - loss: 0.0000e+00 - accuracy: 1.0000 - 925ms/epoch - 19ms/step\n",
            "Epoch 6/25\n",
            "48/48 - 1s - loss: 0.0000e+00 - accuracy: 1.0000 - 932ms/epoch - 19ms/step\n",
            "Epoch 7/25\n",
            "48/48 - 1s - loss: 0.0000e+00 - accuracy: 1.0000 - 936ms/epoch - 19ms/step\n",
            "Epoch 8/25\n",
            "48/48 - 1s - loss: 0.0000e+00 - accuracy: 1.0000 - 917ms/epoch - 19ms/step\n",
            "Epoch 9/25\n",
            "48/48 - 1s - loss: 0.0000e+00 - accuracy: 1.0000 - 908ms/epoch - 19ms/step\n",
            "Epoch 10/25\n",
            "48/48 - 1s - loss: 0.0000e+00 - accuracy: 1.0000 - 933ms/epoch - 19ms/step\n",
            "Epoch 11/25\n",
            "48/48 - 1s - loss: 0.0000e+00 - accuracy: 1.0000 - 916ms/epoch - 19ms/step\n",
            "Epoch 12/25\n",
            "48/48 - 1s - loss: 0.0000e+00 - accuracy: 1.0000 - 1s/epoch - 21ms/step\n",
            "Epoch 13/25\n",
            "48/48 - 1s - loss: 0.0000e+00 - accuracy: 1.0000 - 1s/epoch - 28ms/step\n",
            "Epoch 14/25\n",
            "48/48 - 1s - loss: 0.0000e+00 - accuracy: 1.0000 - 902ms/epoch - 19ms/step\n",
            "Epoch 15/25\n",
            "48/48 - 1s - loss: 0.0000e+00 - accuracy: 1.0000 - 936ms/epoch - 20ms/step\n",
            "Epoch 16/25\n",
            "48/48 - 1s - loss: 0.0000e+00 - accuracy: 1.0000 - 957ms/epoch - 20ms/step\n",
            "Epoch 17/25\n",
            "48/48 - 1s - loss: 0.0000e+00 - accuracy: 1.0000 - 921ms/epoch - 19ms/step\n",
            "Epoch 18/25\n",
            "48/48 - 1s - loss: 0.0000e+00 - accuracy: 1.0000 - 910ms/epoch - 19ms/step\n",
            "Epoch 19/25\n",
            "48/48 - 1s - loss: 0.0000e+00 - accuracy: 1.0000 - 921ms/epoch - 19ms/step\n",
            "Epoch 20/25\n",
            "48/48 - 1s - loss: 0.0000e+00 - accuracy: 1.0000 - 940ms/epoch - 20ms/step\n",
            "Epoch 21/25\n",
            "48/48 - 1s - loss: 0.0000e+00 - accuracy: 1.0000 - 943ms/epoch - 20ms/step\n",
            "Epoch 22/25\n",
            "48/48 - 1s - loss: 0.0000e+00 - accuracy: 1.0000 - 919ms/epoch - 19ms/step\n",
            "Epoch 23/25\n",
            "48/48 - 1s - loss: 0.0000e+00 - accuracy: 1.0000 - 1s/epoch - 27ms/step\n",
            "Epoch 24/25\n",
            "48/48 - 1s - loss: 0.0000e+00 - accuracy: 1.0000 - 1s/epoch - 27ms/step\n",
            "Epoch 25/25\n",
            "48/48 - 1s - loss: 0.0000e+00 - accuracy: 1.0000 - 1s/epoch - 24ms/step\n",
            "6/6 - 1s - loss: 0.0000e+00 - accuracy: 1.0000 - 974ms/epoch - 162ms/step\n"
          ]
        }
      ]
    },
    {
      "cell_type": "code",
      "source": [
        "if accuracy > 0.9:\n",
        "    print(\"success:\",accuracy)"
      ],
      "metadata": {
        "colab": {
          "base_uri": "https://localhost:8080/"
        },
        "id": "zHTCJ_yvtyLf",
        "outputId": "53e074e0-6ae8-4792-c76d-bff60043a63d"
      },
      "execution_count": 143,
      "outputs": [
        {
          "output_type": "stream",
          "name": "stdout",
          "text": [
            "success: 1.0\n"
          ]
        }
      ]
    },
    {
      "cell_type": "code",
      "source": [],
      "metadata": {
        "id": "46oLcl6-xMVq"
      },
      "execution_count": 116,
      "outputs": []
    }
  ],
  "metadata": {
    "accelerator": "GPU",
    "colab": {
      "gpuType": "T4",
      "provenance": [],
      "include_colab_link": true
    },
    "kernelspec": {
      "display_name": "Python 3",
      "name": "python3"
    },
    "language_info": {
      "codemirror_mode": {
        "name": "ipython",
        "version": 3
      },
      "file_extension": ".py",
      "mimetype": "text/x-python",
      "name": "python",
      "nbconvert_exporter": "python",
      "pygments_lexer": "ipython3",
      "version": "3.11.4"
    }
  },
  "nbformat": 4,
  "nbformat_minor": 0
}
