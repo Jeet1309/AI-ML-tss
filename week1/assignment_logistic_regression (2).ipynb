{
 "cells": [
  {
   "cell_type": "markdown",
   "metadata": {
    "id": "wNEUsAHHCGk2"
   },
   "source": [
    "##ASSIGNMENT\n",
    "#Dataset\n",
    "Assume you are a scientist who is trying to make a propellent and is trying many tests to make an efficient propellent .\n",
    "<br>\n",
    "You have performed two tests.\n",
    "<br>\n",
    "From the two tests you would like whether this propellent works efficiently or not.\n",
    "Build your own logistic regression model to decide .\n",
    "<br>\n",
    "Text with \"DO NOT EDIT THIS CODE\" needs to be only run do not edit it\n"
   ]
  },
  {
   "cell_type": "code",
   "execution_count": 561,
   "metadata": {
    "id": "xJm_XXJo4RDg"
   },
   "outputs": [],
   "source": [
    "#import libraries\n",
    "#write your code.\n",
    "import numpy as np \n",
    "import matplotlib.pyplot as plt \n",
    "import pandas as pd \n",
    "import math\n"
   ]
  },
  {
   "cell_type": "code",
   "execution_count": 562,
   "metadata": {
    "id": "YtL0jW6m4e1A"
   },
   "outputs": [
    {
     "name": "stdout",
     "output_type": "stream",
     "text": [
      "[[ 0.051267   0.69956  ]\n",
      " [-0.092742   0.68494  ]\n",
      " [-0.21371    0.69225  ]\n",
      " [-0.375      0.50219  ]\n",
      " [-0.51325    0.46564  ]\n",
      " [-0.52477    0.2098   ]\n",
      " [-0.39804    0.034357 ]\n",
      " [-0.30588   -0.19225  ]\n",
      " [ 0.016705  -0.40424  ]\n",
      " [ 0.13191   -0.51389  ]\n",
      " [ 0.38537   -0.56506  ]\n",
      " [ 0.52938   -0.5212   ]\n",
      " [ 0.63882   -0.24342  ]\n",
      " [ 0.73675   -0.18494  ]\n",
      " [ 0.54666    0.48757  ]\n",
      " [ 0.322      0.5826   ]\n",
      " [ 0.16647    0.53874  ]\n",
      " [-0.046659   0.81652  ]\n",
      " [-0.17339    0.69956  ]\n",
      " [-0.47869    0.63377  ]\n",
      " [-0.60541    0.59722  ]\n",
      " [-0.62846    0.33406  ]\n",
      " [-0.59389    0.005117 ]\n",
      " [-0.42108   -0.27266  ]\n",
      " [-0.11578   -0.39693  ]\n",
      " [ 0.20104   -0.60161  ]\n",
      " [ 0.46601   -0.53582  ]\n",
      " [ 0.67339   -0.53582  ]\n",
      " [-0.13882    0.54605  ]\n",
      " [-0.29435    0.77997  ]\n",
      " [-0.26555    0.96272  ]\n",
      " [-0.16187    0.8019   ]\n",
      " [-0.17339    0.64839  ]\n",
      " [-0.28283    0.47295  ]\n",
      " [-0.36348    0.31213  ]\n",
      " [-0.30012    0.027047 ]\n",
      " [-0.23675   -0.21418  ]\n",
      " [-0.06394   -0.18494  ]\n",
      " [ 0.062788  -0.16301  ]\n",
      " [ 0.22984   -0.41155  ]\n",
      " [ 0.2932    -0.2288   ]\n",
      " [ 0.48329   -0.18494  ]\n",
      " [ 0.64459   -0.14108  ]\n",
      " [ 0.46025    0.012427 ]\n",
      " [ 0.6273     0.15863  ]\n",
      " [ 0.57546    0.26827  ]\n",
      " [ 0.72523    0.44371  ]\n",
      " [ 0.22408    0.52412  ]\n",
      " [ 0.44297    0.67032  ]\n",
      " [ 0.322      0.69225  ]\n",
      " [ 0.13767    0.57529  ]\n",
      " [-0.0063364  0.39985  ]\n",
      " [-0.092742   0.55336  ]\n",
      " [-0.20795    0.35599  ]\n",
      " [-0.20795    0.17325  ]\n",
      " [-0.43836    0.21711  ]\n",
      " [-0.21947   -0.016813 ]\n",
      " [-0.13882   -0.27266  ]\n",
      " [ 0.18376    0.93348  ]\n",
      " [ 0.22408    0.77997  ]\n",
      " [ 0.29896    0.61915  ]\n",
      " [ 0.50634    0.75804  ]\n",
      " [ 0.61578    0.7288   ]\n",
      " [ 0.60426    0.59722  ]\n",
      " [ 0.76555    0.50219  ]\n",
      " [ 0.92684    0.3633   ]\n",
      " [ 0.82316    0.27558  ]\n",
      " [ 0.96141    0.085526 ]\n",
      " [ 0.93836    0.012427 ]\n",
      " [ 0.86348   -0.082602 ]\n",
      " [ 0.89804   -0.20687  ]\n",
      " [ 0.85196   -0.36769  ]\n",
      " [ 0.82892   -0.5212   ]\n",
      " [ 0.79435   -0.55775  ]\n",
      " [ 0.59274   -0.7405   ]\n",
      " [ 0.51786   -0.5943   ]\n",
      " [ 0.46601   -0.41886  ]\n",
      " [ 0.35081   -0.57968  ]\n",
      " [ 0.28744   -0.76974  ]\n",
      " [ 0.085829  -0.75512  ]\n",
      " [ 0.14919   -0.57968  ]\n",
      " [-0.13306   -0.4481   ]\n",
      " [-0.40956   -0.41155  ]\n",
      " [-0.39228   -0.25804  ]\n",
      " [-0.74366   -0.25804  ]\n",
      " [-0.69758    0.041667 ]\n",
      " [-0.75518    0.2902   ]\n",
      " [-0.69758    0.68494  ]\n",
      " [-0.4038     0.70687  ]\n",
      " [-0.38076    0.91886  ]\n",
      " [-0.50749    0.90424  ]\n",
      " [-0.54781    0.70687  ]\n",
      " [ 0.10311    0.77997  ]\n",
      " [ 0.057028   0.91886  ]\n",
      " [-0.10426    0.99196  ]\n",
      " [-0.081221   1.1089   ]\n",
      " [ 0.28744    1.087    ]\n",
      " [ 0.39689    0.82383  ]\n",
      " [ 0.63882    0.88962  ]\n",
      " [ 0.82316    0.66301  ]\n",
      " [ 0.67339    0.64108  ]\n",
      " [ 1.0709     0.10015  ]\n",
      " [-0.046659  -0.57968  ]\n",
      " [-0.23675   -0.63816  ]\n",
      " [-0.15035   -0.36769  ]\n",
      " [-0.49021   -0.3019   ]\n",
      " [-0.46717   -0.13377  ]\n",
      " [-0.28859   -0.060673 ]\n",
      " [-0.61118   -0.067982 ]\n",
      " [-0.66302   -0.21418  ]\n",
      " [-0.59965   -0.41886  ]\n",
      " [-0.72638   -0.082602 ]\n",
      " [-0.83007    0.31213  ]\n",
      " [-0.72062    0.53874  ]\n",
      " [-0.59389    0.49488  ]\n",
      " [-0.48445    0.99927  ]\n",
      " [-0.0063364  0.99927  ]\n",
      " [ 0.63265   -0.030612 ]] [1. 1. 1. 1. 1. 1. 1. 1. 1. 1. 1. 1. 1. 1. 1. 1. 1. 1. 1. 1. 1. 1. 1. 1.\n",
      " 1. 1. 1. 1. 1. 1. 1. 1. 1. 1. 1. 1. 1. 1. 1. 1. 1. 1. 1. 1. 1. 1. 1. 1.\n",
      " 1. 1. 1. 1. 1. 1. 1. 1. 1. 1. 0. 0. 0. 0. 0. 0. 0. 0. 0. 0. 0. 0. 0. 0.\n",
      " 0. 0. 0. 0. 0. 0. 0. 0. 0. 0. 0. 0. 0. 0. 0. 0. 0. 0. 0. 0. 0. 0. 0. 0.\n",
      " 0. 0. 0. 0. 0. 0. 0. 0. 0. 0. 0. 0. 0. 0. 0. 0. 0. 0. 0. 0. 0. 0.]\n"
     ]
    }
   ],
   "source": [
    "#load data\n",
    "df = pd.read_csv('data.txt', header=None)\n",
    "\n",
    "# Convert the DataFrame to a list of lists\n",
    "\n",
    "dataset = df.values.tolist()\n",
    "dataset = np.array(dataset)\n",
    "X_train = dataset[:,:-1]\n",
    "y_train = dataset[:,-1]\n",
    "print(X_train,y_train)\n",
    "\n"
   ]
  },
  {
   "cell_type": "code",
   "execution_count": 563,
   "metadata": {
    "id": "Bk2qYHyk4mNm"
   },
   "outputs": [],
   "source": [
    "#plot data to visualise\n",
    "def plot_data(X,y,positive_label=\"y=1\", negative_label=\"y=0\"):\n",
    "#positive_label and negative_label refers to classes of y as y can be 0 or 1\n",
    "#While plotting graph the label parameter will be either positive_label or negative_label so plot both the labels for X\n",
    "#write your code\n",
    "    one = X[y == 1]\n",
    "    zeros = X[y == 0]\n",
    "    plt.scatter(one[:,0],one[:,1],color = 'red',label = positive_label)\n",
    "    plt.scatter(zeros[:,0],zeros[:,1],color = 'blue',label = negative_label)\n",
    "    \n",
    "\n"
   ]
  },
  {
   "cell_type": "code",
   "execution_count": 564,
   "metadata": {
    "id": "RzsMdrwv58tQ"
   },
   "outputs": [
    {
     "data": {
      "image/png": "[encoded data removed]",
      "text/plain": [
       "<Figure size 640x480 with 1 Axes>"
      ]
     },
     "metadata": {},
     "output_type": "display_data"
    }
   ],
   "source": [
    "#test\n",
    "plot_data(X_train, y_train[:], positive_label=\"Accepted\", negative_label=\"Rejected\")\n",
    "\n",
    "\n",
    "plt.xlabel('Test 2')\n",
    "plt.ylabel('Test 1')\n",
    "plt.legend(loc=\"upper right\")\n",
    "plt.show()\n"
   ]
  },
  {
   "cell_type": "code",
   "execution_count": 587,
   "metadata": {
    "id": "KhRBdaFi6nKo"
   },
   "outputs": [],
   "source": [
    "#feature mapping\n",
    "def map_feature(X1,X2):\n",
    "#write your code\n",
    "    X1=np.atleast_1d(X1)\n",
    "    X2=np.atleast_1d(X2)\n",
    "    degree=5\n",
    "    out=[]\n",
    "    for i in range(1,degree+1):\n",
    "        for j in range(i+1):\n",
    "            out.append((X1**(i-j) * (X2**j)))\n",
    "    return np.stack(out, axis=1)\n",
    "\n"
   ]
  },
  {
   "cell_type": "code",
   "execution_count": 566,
   "metadata": {
    "id": "PNS4kJfq6_m8"
   },
   "outputs": [
    {
     "name": "stdout",
     "output_type": "stream",
     "text": [
      "Original shape of data: (118, 2)\n",
      "Shape after feature mapping: (118, 35)\n"
     ]
    }
   ],
   "source": [
    "print(\"Original shape of data:\", X_train.shape)\n",
    "\n",
    "mapped_X =  map_feature(X_train[:, 0], X_train[:, 1])\n",
    "print(\"Shape after feature mapping:\", mapped_X.shape)"
   ]
  },
  {
   "cell_type": "code",
   "execution_count": 567,
   "metadata": {
    "cellView": "form",
    "id": "BqlxZOXoHh4z"
   },
   "outputs": [],
   "source": [
    "# @title DO NOT EDIT THIS CODE\n",
    "def sigmoid_test(target):\n",
    "    assert np.isclose(target(3.0), 0.9525741268224334), \"Failed for scalar input\"\n",
    "    assert np.allclose(target(np.array([2.5, 0])), [0.92414182, 0.5]), \"Failed for 1D array\"\n",
    "    assert np.allclose(target(np.array([[2.5, -2.5], [0, 1]])),\n",
    "                       [[0.92414182, 0.07585818], [0.5, 0.73105858]]), \"Failed for 2D array\"\n",
    "    print('\\033[92mTests passed!')"
   ]
  },
  {
   "cell_type": "code",
   "execution_count": 568,
   "metadata": {
    "id": "wdgE-ay07C0P"
   },
   "outputs": [],
   "source": [
    "#sigmoid function\n",
    "def sigmoid(z):\n",
    "#write your code\n",
    "    return 1/(1+np.exp(-1*z))\n",
    "\n"
   ]
  },
  {
   "cell_type": "code",
   "execution_count": 569,
   "metadata": {
    "id": "9XOlXXyxHnmB"
   },
   "outputs": [
    {
     "name": "stdout",
     "output_type": "stream",
     "text": [
      "\u001b[92mTests passed!\n"
     ]
    }
   ],
   "source": [
    "sigmoid_test(sigmoid)\n"
   ]
  },
  {
   "cell_type": "code",
   "execution_count": 570,
   "metadata": {
    "cellView": "form",
    "id": "QLqfyxPrH-v-"
   },
   "outputs": [],
   "source": [
    "# @title DO NOT EDIT THIS CODE\n",
    "def compute_cost_test(target):\n",
    "    X = np.array([[0, 0, 0, 0]]).T\n",
    "    y = np.array([0, 0, 0, 0])\n",
    "    w = np.array([0])\n",
    "    b = 1\n",
    "    result = target(X, y, w, b)\n",
    "    if math.isinf(result):\n",
    "        raise ValueError(\"Did you get the sigmoid of z_wb?\")\n",
    "\n",
    "    np.random.seed(17)\n",
    "    X = np.random.randn(5, 2)\n",
    "    y = np.array([1, 0, 0, 1, 1])\n",
    "    w = np.random.randn(2)\n",
    "    b = 0\n",
    "    result = target(X, y, w, b)\n",
    "    assert np.isclose(result, 2.15510667), f\"Wrong output. Expected: {2.15510667} got: {result}\"\n",
    "\n",
    "    X = np.random.randn(4, 3)\n",
    "    y = np.array([1, 1, 0, 0])\n",
    "    w = np.random.randn(3)\n",
    "    b = 0\n",
    "\n",
    "    result = target(X, y, w, b)\n",
    "    assert np.isclose(result, 0.80709376), f\"Wrong output. Expected: {0.80709376} got: {result}\"\n",
    "\n",
    "    X = np.random.randn(4, 3)\n",
    "    y = np.array([1, 0,1, 0])\n",
    "    w = np.random.randn(3)\n",
    "    b = 3\n",
    "    result = target(X, y, w, b)\n",
    "    assert np.isclose(result, 0.4529660647), f\"Wrong output. Expected: {0.4529660647} got: {result}. Did you inizialized z_wb = b?\"\n",
    "\n",
    "    print('\\033[92mTests passed!')"
   ]
  },
  {
   "cell_type": "code",
   "execution_count": 571,
   "metadata": {
    "id": "PRIqcpJ17MzH"
   },
   "outputs": [],
   "source": [
    "#computing cost\n",
    "def compute_cost(X,y,w,b,lambda_=1):\n",
    "#write your code\n",
    "    m = X.shape[0]  # Number of examples\n",
    "    z = np.dot(X, w) + b\n",
    "    y_hat = sigmoid(z)\n",
    "    \n",
    "    # Compute regularized cost\n",
    "   \n",
    "    total_cost  = -np.mean(y * np.log(y_hat) + (1 - y) * np.log(1 - y_hat))\n",
    "    \n",
    "\n",
    "\n",
    "    return total_cost"
   ]
  },
  {
   "cell_type": "code",
   "execution_count": 572,
   "metadata": {
    "id": "MPOvLzL5H5-5"
   },
   "outputs": [
    {
     "name": "stdout",
     "output_type": "stream",
     "text": [
      "Cost at test w,b: 11.777\n",
      "\u001b[92mTests passed!\n"
     ]
    }
   ],
   "source": [
    "test_w = np.array([0.2, 0.2])\n",
    "test_b = -24.\n",
    "cost = compute_cost(X_train, y_train, test_w, test_b)\n",
    "\n",
    "print('Cost at test w,b: {:.3f}'.format(cost))\n",
    "\n",
    "\n",
    "# test\n",
    "compute_cost_test(compute_cost)"
   ]
  },
  {
   "cell_type": "code",
   "execution_count": 573,
   "metadata": {
    "id": "ULkWUBkO7ffh"
   },
   "outputs": [],
   "source": [
    "#compute regularised cost\n",
    "def compute_cost_reg(X, y, w, b, lambda_ = 1):\n",
    "#write your code\n",
    "    m = X.shape[0] \n",
    "    z = np.dot(X, w) + b\n",
    "    y_hat = sigmoid(z)\n",
    "    \n",
    " \n",
    "    total_cost = -np.mean(y * np.log(y_hat) + (1 - y) * np.log(1 - y_hat)) + ((lambda_ / (2 * m)) * np.sum(np.square(w)))    \n",
    "    return total_cost"
   ]
  },
  {
   "cell_type": "code",
   "execution_count": 574,
   "metadata": {
    "cellView": "form",
    "id": "OhFbPakDGKQj"
   },
   "outputs": [],
   "source": [
    "# @title DO NOT EDIT THIS CODE\n",
    "def compute_cost_reg_test(target):\n",
    "    np.random.seed(1)\n",
    "    w = np.random.randn(3)\n",
    "    b = 0.4\n",
    "    X = np.random.randn(6, 3)\n",
    "    y = np.array([0, 1, 1, 0, 1, 1])\n",
    "    lambda_ = 0.1\n",
    "    expected_output = target(X, y, w, b, lambda_)\n",
    "\n",
    "    assert np.isclose(expected_output, 0.5469746792761936), f\"Wrong output. Expected: {0.5469746792761936} got:{expected_output}\"\n",
    "\n",
    "    w = np.random.randn(5)\n",
    "    b = -0.6\n",
    "    X = np.random.randn(8, 5)\n",
    "    y = np.array([1, 0, 1, 0, 0, 1, 0, 1])\n",
    "    lambda_ = 0.01\n",
    "    output = target(X, y, w, b, lambda_)\n",
    "    assert np.isclose(output, 1.2608591964119995), f\"Wrong output. Expected: {1.2608591964119995} got:{output}\"\n",
    "\n",
    "    w = np.array([2, 2, 2, 2, 2])\n",
    "    b = 0\n",
    "    X = np.zeros((8, 5))\n",
    "    y = np.array([0.5] * 8)\n",
    "    lambda_ = 3\n",
    "    output = target(X, y, w, b, lambda_)\n",
    "    expected = -np.log(0.5) + 3. / (2. * 8.) * 20.\n",
    "    assert np.isclose(output, expected), f\"Wrong output. Expected: {expected} got:{output}\"\n",
    "\n",
    "    print('\\033[92mAll tests passed!')"
   ]
  },
  {
   "cell_type": "code",
   "execution_count": 575,
   "metadata": {
    "id": "jO14e7OD7syR"
   },
   "outputs": [
    {
     "name": "stdout",
     "output_type": "stream",
     "text": [
      "Regularised cost : 0.6667286786092087\n",
      "\u001b[92mAll tests passed!\n"
     ]
    }
   ],
   "source": [
    "X_mapped = map_feature(X_train[:, 0], X_train[:, 1])\n",
    "np.random.seed(1)\n",
    "initial_w = np.random.rand(X_mapped.shape[1]) - 0.5\n",
    "initial_b = 0.5\n",
    "lambda_ = 0.5\n",
    "cost = compute_cost_reg(X_mapped, y_train, initial_w, initial_b, lambda_)\n",
    "\n",
    "print(\"Regularised cost :\", cost)\n",
    "\n",
    "#test\n",
    "compute_cost_reg_test(compute_cost_reg)"
   ]
  },
  {
   "cell_type": "code",
   "execution_count": 576,
   "metadata": {
    "cellView": "form",
    "id": "plQBUPM2IRei"
   },
   "outputs": [],
   "source": [
    "# @title DO NOT EDIT THIS CODE\n",
    "def compute_gradient_test(target):\n",
    "    np.random.seed(1)\n",
    "    X = np.random.randn(7, 3)\n",
    "    y = np.array([1, 0, 1, 0, 1, 1, 0])\n",
    "    test_w = np.array([1, 0.5, -0.35])\n",
    "    test_b = 1.7\n",
    "    dj_db, dj_dw  = target(X, y, test_w, test_b)\n",
    "\n",
    "    assert np.isclose(dj_db, 0.28936094), f\"Wrong value for dj_db. Expected: {0.28936094} got: {dj_db}\"\n",
    "    assert dj_dw.shape == test_w.shape, f\"Wrong shape for dj_dw. Expected: {test_w.shape} got: {dj_dw.shape}\"\n",
    "    assert np.allclose(dj_dw, [-0.11999166, 0.41498775, -0.71968405]), f\"Wrong values for dj_dw. Got: {dj_dw}\"\n",
    "\n",
    "    print('\\033[92mTests passed!')"
   ]
  },
  {
   "cell_type": "code",
   "execution_count": 577,
   "metadata": {
    "id": "v27SzhYX8-ug"
   },
   "outputs": [],
   "source": [
    "#compute gradient\n",
    "def compute_gradient(X, y, w, b, lambda_=None):\n",
    "#write your code\n",
    "    m = X.shape[0]  \n",
    "    z = np.dot(X, w) + b\n",
    "    y_pred = sigmoid(z)\n",
    "    dj_dw = np.dot(X.T, (y_pred - y))/m\n",
    "    dj_db = np.mean(y_pred-y)\n",
    "\n",
    "    return dj_db,dj_dw"
   ]
  },
  {
   "cell_type": "code",
   "execution_count": 578,
   "metadata": {
    "id": "WLmFL2yuIPUA"
   },
   "outputs": [
    {
     "name": "stdout",
     "output_type": "stream",
     "text": [
      "dj_db at test_w: -0.4915254236924827\n",
      "dj_dw at test_w: [-0.008601361012465374, -0.09147300847306206]\n",
      "\u001b[92mTests passed!\n"
     ]
    }
   ],
   "source": [
    "test_w = np.array([ 0.2, -0.5])\n",
    "test_b = -24\n",
    "dj_db, dj_dw  = compute_gradient(X_train, y_train, test_w, test_b)\n",
    "\n",
    "print('dj_db at test_w:', dj_db)\n",
    "print('dj_dw at test_w:', dj_dw.tolist())\n",
    "\n",
    "# test\n",
    "compute_gradient_test(compute_gradient)"
   ]
  },
  {
   "cell_type": "code",
   "execution_count": 579,
   "metadata": {
    "id": "TGfUArz09TMl"
   },
   "outputs": [],
   "source": [
    "#compute regularised gradient\n",
    "def compute_gradient_reg(X, y, w, b, lambda_=1):\n",
    "#write your code\n",
    "    m = X.shape[0]\n",
    "    dj_db,unreg_dw = compute_gradient(X, y, w, b, lambda_)\n",
    "    z = np.dot(X, w) + b\n",
    "    y_pred = sigmoid(z)\n",
    "    dj_dw = np.dot(X.T, (y_pred - y))/m + (lambda_/m)*w\n",
    "    \n",
    "    return dj_db,dj_dw"
   ]
  },
  {
   "cell_type": "code",
   "execution_count": 580,
   "metadata": {
    "cellView": "form",
    "id": "KNRCWIc8G2cp"
   },
   "outputs": [],
   "source": [
    "# @title DO NOT EDIT THIS CODE\n",
    "def compute_gradient_reg_test(target):\n",
    "    np.random.seed(1)\n",
    "    w = np.random.randn(5)\n",
    "    b = 0.2\n",
    "    X = np.random.randn(7, 5)\n",
    "    y = np.array([0, 1, 1, 0, 1, 1, 0])\n",
    "    lambda_ = 0.1\n",
    "    expected1 = (-0.1506447567869257, np.array([ 0.19530838, -0.00632206,  0.19687367,  0.15741161,  0.02791437]))\n",
    "    dj_db, dj_dw = target(X, y, w, b, lambda_)\n",
    "\n",
    "    assert np.isclose(dj_db, expected1[0]), f\"Wrong dj_db. Expected: {expected1[0]} got: {dj_db}\"\n",
    "    assert np.allclose(dj_dw, expected1[1]), f\"Wrong dj_dw. Expected: {expected1[1]} got: {dj_dw}\"\n",
    "\n",
    "\n",
    "    w = np.random.randn(7)\n",
    "    b = 0\n",
    "    X = np.random.randn(7, 7)\n",
    "    y = np.array([1, 0, 0, 0, 1, 1, 0])\n",
    "    lambda_ = 0\n",
    "    expected2 = (0.02660329857573818, np.array([ 0.23567643, -0.06921029, -0.19705212, -0.0002884 ,  0.06490588,\n",
    "        0.26948175,  0.10777992]))\n",
    "    dj_db, dj_dw = target(X, y, w, b, lambda_)\n",
    "    assert np.isclose(dj_db, expected2[0]), f\"Wrong dj_db. Expected: {expected2[0]} got: {dj_db}\"\n",
    "    assert np.allclose(dj_dw, expected2[1]), f\"Wrong dj_dw. Expected: {expected2[1]} got: {dj_dw}\"\n",
    "\n",
    "    print('\\033[92mTests passed!')"
   ]
  },
  {
   "cell_type": "code",
   "execution_count": 581,
   "metadata": {
    "id": "3_of_BHJ9hEc"
   },
   "outputs": [
    {
     "name": "stdout",
     "output_type": "stream",
     "text": [
      "dj_db: 0.07239885174161174\n",
      "\u001b[92mTests passed!\n"
     ]
    }
   ],
   "source": [
    "X_mapped = map_feature(X_train[:, 0], X_train[:, 1])\n",
    "np.random.seed(1)\n",
    "initial_w  = np.random.rand(X_mapped.shape[1]) - 0.5\n",
    "initial_b = 0.5\n",
    "\n",
    "lambda_ = 0.5\n",
    "dj_db, dj_dw = compute_gradient_reg(X_mapped, y_train, initial_w, initial_b, lambda_)\n",
    "\n",
    "print(f\"dj_db: {dj_db}\" )\n",
    "#test\n",
    "compute_gradient_reg_test(compute_gradient_reg)"
   ]
  },
  {
   "cell_type": "code",
   "execution_count": 658,
   "metadata": {
    "id": "c5y3Nb9Z_SC4"
   },
   "outputs": [
    {
     "name": "stdout",
     "output_type": "stream",
     "text": [
      "[0.7047879  0.7239327  0.70565294 0.7308764  0.65032189 0.62119524\n",
      " 0.66673001 0.63109367 0.63329916 0.57917248 0.53382849 0.51815839\n",
      " 0.58389144 0.48277306 0.6364037  0.71932897 0.77986311 0.56532607\n",
      " 0.70642697 0.62816676 0.52334002 0.53057847 0.4877088  0.51583974\n",
      " 0.6017316  0.51248406 0.53502536 0.3967175  0.78324052 0.59636976\n",
      " 0.23135587 0.59132001 0.74008247 0.76782516 0.73977915 0.71362077\n",
      " 0.65326335 0.71841529 0.7453655  0.65209436 0.72817834 0.69967377\n",
      " 0.60694229 0.74632095 0.64989494 0.68449574 0.42482406 0.77464943\n",
      " 0.56779931 0.62418521 0.77038007 0.81295633 0.78553599 0.79055526\n",
      " 0.7745692  0.68750932 0.7308456  0.66214395 0.22349899 0.54821432\n",
      " 0.70424734 0.36755075 0.28626575 0.48148021 0.30770518 0.09613786\n",
      " 0.31195515 0.09023815 0.12704207 0.26570915 0.18633718 0.23135208\n",
      " 0.20642632 0.23482054 0.28121181 0.46498316 0.61206179 0.52722591\n",
      " 0.33391885 0.33556398 0.52755722 0.56142753 0.43508423 0.54518521\n",
      " 0.19354537 0.36654916 0.33751693 0.34260637 0.62672604 0.30195875\n",
      " 0.26237834 0.51475247 0.59599765 0.30915904 0.16564039 0.018597\n",
      " 0.01049425 0.34160703 0.05649031 0.09528027 0.32752423 0.01135272\n",
      " 0.48545815 0.35330618 0.60735755 0.44091291 0.55203552 0.69156558\n",
      " 0.43708289 0.3061701  0.26442559 0.28170309 0.21876336 0.38048589\n",
      " 0.56787677 0.1077897  0.13690774 0.63764917]\n"
     ]
    }
   ],
   "source": [
    "np.random.seed(1)\n",
    "initial_w = np.random.rand(X_mapped.shape[1])-0.5\n",
    "initial_b = 1.\n",
    "lambda_ = 1\n",
    "iterations = 10000\n",
    "alpha = 0.06\n",
    "def gradient_descent(X_mapped, y_train, initial_w, initial_b,compute_cost_reg, compute_gradient_reg,alpha, iterations, lambda_):\n",
    "    w =initial_w\n",
    "    b = initial_b\n",
    "    _ = 1\n",
    "    J_history =[]\n",
    "    for i in range(iterations):\n",
    "        \n",
    "        grad_b,grad_w = compute_gradient_reg(X_mapped, y_train,  w, b, lambda_)\n",
    "        \n",
    "        J_history.append(compute_cost_reg(X_mapped, y_train, w, b, lambda_))\n",
    "        \n",
    "        w = w - alpha * grad_w\n",
    "        b = b - alpha * grad_b\n",
    "\n",
    "    return w, b, J_history, _\n",
    "\n",
    "w,b, J_history,_ = gradient_descent(X_mapped, y_train, initial_w, initial_b,\n",
    "                                    compute_cost_reg, compute_gradient_reg,\n",
    "                                    alpha, iterations, lambda_)\n",
    "z = np.dot(X_mapped, w) + b\n",
    "y_hat = sigmoid(z)\n",
    "print(y_hat)"
   ]
  },
  {
   "cell_type": "code",
   "execution_count": 659,
   "metadata": {
    "id": "cqSOrJsTAf9p"
   },
   "outputs": [],
   "source": [
    "#plot decision boundary\n",
    "def plot_decision_boundary(w,b,X,y):\n",
    "#write your code\n",
    "    one = X[y == 1]\n",
    "    zeros = X[y == 0]\n",
    "    plt.scatter(one[:,0],one[:,1],color = 'red')\n",
    "    plt.scatter(zeros[:,0],zeros[:,1],color = 'blue')\n",
    "    z = np.dot(X, w) + b\n",
    "    y_hat = sigmoid(z)\n",
    "    plt.plot(X,y_hat,color = 'black',label = 'boundary')\n",
    "\n",
    "\n"
   ]
  },
  {
   "cell_type": "code",
   "execution_count": 660,
   "metadata": {
    "id": "etir_m_AAyYC"
   },
   "outputs": [
    {
     "data": {
      "image/png": "[encoded data removed]",
      "text/plain": [
       "<Figure size 640x480 with 1 Axes>"
      ]
     },
     "metadata": {},
     "output_type": "display_data"
    }
   ],
   "source": [
    "plot_decision_boundary(w, b, X_mapped, y_train)"
   ]
  },
  {
   "cell_type": "code",
   "execution_count": 661,
   "metadata": {
    "id": "MD2Dup4OA1ew"
   },
   "outputs": [],
   "source": [
    "#predict your training model\n",
    "def predict(X, w, b):\n",
    "    m,n=X.shape\n",
    "    p=np.zeros(m)\n",
    "    #write your code\n",
    "    for i in range(m):\n",
    "        z = np.dot(X, w) + b\n",
    "        y_hat = sigmoid(z)\n",
    "        if y_hat[i]>0.5:\n",
    "            p[i] = 1\n",
    "    return p"
   ]
  },
  {
   "cell_type": "code",
   "execution_count": 662,
   "metadata": {
    "id": "TAhIPFIsBTjk"
   },
   "outputs": [
    {
     "name": "stdout",
     "output_type": "stream",
     "text": [
      "Accuracy of training model: 83.050847\n"
     ]
    }
   ],
   "source": [
    "p = predict(X_mapped, w, b)\n",
    "\n",
    "print('Accuracy of training model: %f'%(np.mean(p == y_train) * 100))"
   ]
  },
  {
   "cell_type": "code",
   "execution_count": null,
   "metadata": {},
   "outputs": [],
   "source": []
  }
 ],
 "metadata": {
  "colab": {
   "provenance": []
  },
  "kernelspec": {
   "display_name": "Python 3 (ipykernel)",
   "language": "python",
   "name": "python3"
  },
  "language_info": {
   "codemirror_mode": {
    "name": "ipython",
    "version": 3
   },
   "file_extension": ".py",
   "mimetype": "text/x-python",
   "name": "python",
   "nbconvert_exporter": "python",
   "pygments_lexer": "ipython3",
   "version": "3.11.7"
  }
 },
 "nbformat": 4,
 "nbformat_minor": 4
}
